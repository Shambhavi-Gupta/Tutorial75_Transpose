{
  "nbformat": 4,
  "nbformat_minor": 0,
  "metadata": {
    "colab": {
      "name": "Tutorial75_Transpose.ipynb",
      "provenance": [],
      "authorship_tag": "ABX9TyNiUC5MI84x0CJvPQVw9noy",
      "include_colab_link": true
    },
    "kernelspec": {
      "name": "python3",
      "display_name": "Python 3"
    }
  },
  "cells": [
    {
      "cell_type": "markdown",
      "metadata": {
        "id": "view-in-github",
        "colab_type": "text"
      },
      "source": [
        "<a href=\"https://colab.research.google.com/github/Shambhavi-Gupta/Tutorial75_Transpose/blob/main/Tutorial75_Transpose.ipynb\" target=\"_parent\"><img src=\"https://colab.research.google.com/assets/colab-badge.svg\" alt=\"Open In Colab\"/></a>"
      ]
    },
    {
      "cell_type": "code",
      "metadata": {
        "id": "wx8f3-nnKA24"
      },
      "source": [
        "import numpy as np\r\n",
        "#help(np.tanspose)\r\n",
        "# a = np.arange(1,11).reshape(5,2)\r\n",
        "# #print(a)\r\n",
        "# #print(a.shape)\r\n",
        "# print(np.transpose(a).shape)\r\n",
        "\r\n",
        "# b = np.arange(1,25).reshape(2,3,4)\r\n",
        "# print(b)\r\n",
        "# print(b.shape)\r\n",
        "# #print(np.transpose(b))\r\n",
        "# print(np.transpose(b).shape)\r\n",
        "\r\n",
        "a = np.arange(1,10)\r\n",
        "print(a)\r\n",
        "print(np.transpose(a))\r\n"
      ],
      "execution_count": null,
      "outputs": []
    }
  ]
}